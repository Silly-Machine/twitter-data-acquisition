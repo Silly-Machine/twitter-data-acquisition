{
 "cells": [
  {
   "cell_type": "code",
   "execution_count": 1,
   "metadata": {},
   "outputs": [],
   "source": [
    "\n",
    "if 'init_executed' not in globals():\n",
    "    %run __init__.py\n",
    "    init_executed = True\n",
    "# -------------------------------\n",
    "\n",
    "from src import *\n",
    "import pandas as pd\n",
    "\n",
    "# -------------------------------\n",
    "credentials = get_credentials()\n",
    "api_cnx = tools(**credentials)\n"
   ]
  },
  {
   "cell_type": "code",
   "execution_count": 2,
   "metadata": {},
   "outputs": [
    {
     "name": "stdout",
     "output_type": "stream",
     "text": [
      " loop :False - 05-22-2023 17:14:05 - [1/56]..... batch size: 100..... key: viado \n",
      " loop :False - 05-22-2023 17:14:06 - [2/56]..... batch size: 100..... key: bicha \n",
      " loop :False - 05-22-2023 17:14:07 - [3/56]..... batch size: 100..... key: traveco \n",
      " loop :False - 05-22-2023 17:14:09 - [4/56]..... batch size: 98..... key: travesti \n",
      " loop :False - 05-22-2023 17:14:10 - [5/56]..... batch size: 94..... key: afeminado \n",
      " loop :False - 05-22-2023 17:14:11 - [6/56]..... batch size: 97..... key: afeminada \n",
      " loop :False - 05-22-2023 17:14:12 - [7/56]..... batch size: 100..... key: sapatão \n",
      " loop :False - 05-22-2023 17:14:14 - [8/56]..... batch size: 100..... key: caminhoneira \n",
      " loop :False - 05-22-2023 17:14:15 - [9/56]..... batch size: 100..... key: gorda \n",
      " loop :False - 05-22-2023 17:14:17 - [10/56]..... batch size: 100..... key: baleia \n",
      " loop :False - 05-22-2023 17:14:17 - [11/56]..... batch size: 100..... key: doente \n",
      " loop :False - 05-22-2023 17:14:19 - [12/56]..... batch size: 100..... key: gordo \n",
      " loop :False - 05-22-2023 17:14:20 - [13/56]..... batch size: 100..... key: obeso \n",
      " loop :False - 05-22-2023 17:14:21 - [14/56]..... batch size: 100..... key: obesa \n",
      " loop :False - 05-22-2023 17:14:22 - [15/56]..... batch size: 100..... key: feia \n",
      " loop :False - 05-22-2023 17:14:23 - [16/56]..... batch size: 100..... key: feio \n",
      " loop :False - 05-22-2023 17:14:24 - [17/56]..... batch size: 100..... key: gorda \n",
      " loop :False - 05-22-2023 17:14:26 - [18/56]..... batch size: 100..... key: feia \n",
      " loop :False - 05-22-2023 17:14:27 - [19/56]..... batch size: 100..... key: vagabunda \n",
      " loop :False - 05-22-2023 17:14:28 - [20/56]..... batch size: 100..... key: piranha \n",
      " loop :False - 05-22-2023 17:14:29 - [21/56]..... batch size: 100..... key: escrota \n",
      " loop :False - 05-22-2023 17:14:30 - [22/56]..... batch size: 100..... key: maluca \n",
      " loop :False - 05-22-2023 17:14:32 - [23/56]..... batch size: 100..... key: feminista \n",
      " loop :False - 05-22-2023 17:14:33 - [24/56]..... batch size: 100..... key: puta \n",
      " loop :False - 05-22-2023 17:14:34 - [25/56]..... batch size: 100..... key: vaca \n",
      " loop :False - 05-22-2023 17:14:35 - [26/56]..... batch size: 100..... key: mal amada \n",
      " loop :False - 05-22-2023 17:14:37 - [27/56]..... batch size: 100..... key: mal comida \n",
      " loop :False - 05-22-2023 17:14:38 - [28/56]..... batch size: 100..... key: macaco \n",
      " loop :False - 05-22-2023 17:14:39 - [29/56]..... batch size: 100..... key: mulato \n",
      " loop :False - 05-22-2023 17:14:40 - [30/56]..... batch size: 84..... key: mulata \n",
      " loop :False - 05-22-2023 17:14:41 - [31/56]..... batch size: 100..... key: moreno \n",
      " loop :False - 05-22-2023 17:14:42 - [32/56]..... batch size: 91..... key: morena \n",
      " loop :False - 05-22-2023 17:14:43 - [33/56]..... batch size: 84..... key: preto safado \n",
      " loop :False - 05-22-2023 17:14:44 - [34/56]..... batch size: 100..... key: criolo \n",
      " loop :False - 05-22-2023 17:14:45 - [35/56]..... batch size: 100..... key: neguinho \n",
      " loop :False - 05-22-2023 17:14:46 - [36/56]..... batch size: 100..... key: neguinha \n",
      " loop :False - 05-22-2023 17:14:47 - [37/56]..... batch size: 100..... key: esquerdista \n",
      " loop :False - 05-22-2023 17:14:48 - [38/56]..... batch size: 100..... key: petralha \n",
      " loop :False - 05-22-2023 17:14:49 - [39/56]..... batch size: 100..... key: comunista \n",
      " loop :False - 05-22-2023 17:14:51 - [40/56]..... batch size: 100..... key: fascista \n",
      " loop :False - 05-22-2023 17:14:52 - [41/56]..... batch size: 100..... key: bolsonarista \n",
      " loop :False - 05-22-2023 17:14:53 - [42/56]..... batch size: 100..... key: bolsominion \n",
      " loop :False - 05-22-2023 17:14:54 - [43/56]..... batch size: 100..... key: minion \n",
      " loop :False - 05-22-2023 17:14:56 - [44/56]..... batch size: 100..... key: nazista \n",
      " loop :False - 05-22-2023 17:14:57 - [45/56]..... batch size: 100..... key: lula \n",
      " loop :False - 05-22-2023 17:14:58 - [46/56]..... batch size: 100..... key: dilma \n",
      " loop :False - 05-22-2023 17:15:00 - [47/56]..... batch size: 100..... key: gulag \n",
      " loop :False - 05-22-2023 17:15:01 - [48/56]..... batch size: 100..... key: micheque \n",
      " loop :False - 05-22-2023 17:15:02 - [49/56]..... batch size: 100..... key: carluxo \n"
     ]
    }
   ],
   "source": [
    "trends = ['vinicius', 'real madrid']\n",
    "queries = load_expressions()\n",
    "queries.extend(trends)\n",
    "# -------------------------------\n",
    "batch_to_csv(api_cnx, queries, batch=250, loop=False)\n",
    "\n",
    "# -------------------------------\n",
    "df = load_dataframes()\n",
    "df.sample(10)\n"
   ]
  },
  {
   "cell_type": "code",
   "execution_count": null,
   "metadata": {},
   "outputs": [],
   "source": []
  }
 ],
 "metadata": {
  "kernelspec": {
   "display_name": "thesis-twitter-data-acquisition",
   "language": "python",
   "name": "python3"
  },
  "language_info": {
   "codemirror_mode": {
    "name": "ipython",
    "version": 3
   },
   "file_extension": ".py",
   "mimetype": "text/x-python",
   "name": "python",
   "nbconvert_exporter": "python",
   "pygments_lexer": "ipython3",
   "version": "3.8.16"
  },
  "orig_nbformat": 4
 },
 "nbformat": 4,
 "nbformat_minor": 2
}
